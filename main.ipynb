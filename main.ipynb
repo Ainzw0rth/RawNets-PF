{
 "cells": [
  {
   "cell_type": "code",
   "execution_count": 3,
   "id": "5fdd95fd",
   "metadata": {},
   "outputs": [
    {
     "name": "stdout",
     "output_type": "stream",
     "text": [
      "==================== LOADING DATASET ====================\n",
      "\n",
      "Skipped 0 files due to NaNs/Infs.\n",
      "\n",
      "==================== DATASET LOADED ====================\n",
      "\n",
      "\n",
      "==================== SPLITTING DATASET ====================\n",
      "\n",
      "Total samples: 71118\n",
      "Train samples: 49782\n",
      "Validation samples: 10667\n",
      "Test samples: 10669\n"
     ]
    }
   ],
   "source": [
    "import os\n",
    "import sys\n",
    "import time\n",
    "import torch\n",
    "from datetime import datetime\n",
    "from torch.utils.data import DataLoader\n",
    "\n",
    "# Import utils\n",
    "from utils.Logger import Logger\n",
    "from utils.Seed import set_seed\n",
    "from utils.Splitter import stratified_split\n",
    "from classes.FeatureDataset.CombinedFeatureDataset import CombinedFeatureDataset\n",
    "\n",
    "seed = 42\n",
    "set_seed(42)\n",
    "\n",
    "# Load full dataset\n",
    "print(\"==================== LOADING DATASET ====================\\n\")\n",
    "full_dataset = CombinedFeatureDataset(\"preprocessed_data/combined\")\n",
    "print(\"\\n==================== DATASET LOADED ====================\\n\")\n",
    "\n",
    "# Stratified dataset split\n",
    "print(\"\\n==================== SPLITTING DATASET ====================\\n\")\n",
    "train_dataset, val_dataset, test_dataset = stratified_split(full_dataset, splits=(0.7, 0.15, 0.15), seed=seed)\n",
    "\n",
    "# Looping to do some variations on the models' parameters\n",
    "batch_sizes = [32]\n",
    "learning_rates = [0.0001]\n",
    "epochs = 5\n",
    "\n",
    "# Print dataset sizes\n",
    "print(f\"Total samples: {len(full_dataset)}\")\n",
    "print(f\"Train samples: {len(train_dataset)}\")\n",
    "print(f\"Validation samples: {len(val_dataset)}\")\n",
    "print(f\"Test samples: {len(test_dataset)}\")"
   ]
  },
  {
   "cell_type": "code",
   "execution_count": 5,
   "id": "8e9908c8",
   "metadata": {},
   "outputs": [
    {
     "name": "stdout",
     "output_type": "stream",
     "text": [
      "\n",
      "Class frequencies:\n",
      "Train set class counts: {'Bonafide': 12978, 'Spoof': 36804}\n",
      "Validation set class counts: {'Bonafide': 2781, 'Spoof': 7886}\n",
      "Test set class counts: {'Bonafide': 2781, 'Spoof': 7888}\n"
     ]
    }
   ],
   "source": [
    "# Show class frequency for each dataset (label mapping: Bonafide=1, Spoof=0)\n",
    "from collections import Counter\n",
    "\n",
    "label_map = {1: \"Bonafide\", 0: \"Spoof\"}\n",
    "\n",
    "def get_class_counts(dataset):\n",
    "    labels = [dataset[i][1] for i in range(len(dataset))]\n",
    "    return Counter(labels)\n",
    "\n",
    "print(\"\\nClass frequencies:\")\n",
    "for name, ds in zip(['Train', 'Validation', 'Test'], [train_dataset, val_dataset, test_dataset]):\n",
    "    counts = get_class_counts(ds)\n",
    "    # Map numeric labels to class names for display\n",
    "    named_counts = {label_map.get(k, k): v for k, v in counts.items()}\n",
    "    print(f\"{name} set class counts: {named_counts}\")"
   ]
  }
 ],
 "metadata": {
  "kernelspec": {
   "display_name": "rawnet-pf",
   "language": "python",
   "name": "python3"
  },
  "language_info": {
   "codemirror_mode": {
    "name": "ipython",
    "version": 3
   },
   "file_extension": ".py",
   "mimetype": "text/x-python",
   "name": "python",
   "nbconvert_exporter": "python",
   "pygments_lexer": "ipython3",
   "version": "3.9.0"
  }
 },
 "nbformat": 4,
 "nbformat_minor": 5
}
